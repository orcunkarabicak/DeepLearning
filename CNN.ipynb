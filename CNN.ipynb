{
 "cells": [
  {
   "cell_type": "code",
   "execution_count": 1,
   "metadata": {
    "tags": []
   },
   "outputs": [],
   "source": [
    "import os\n",
    "import ssl\n",
    "import time\n",
    "import numpy\n",
    "import random\n",
    "import pandas\n",
    "from matplotlib import pyplot"
   ]
  },
  {
   "cell_type": "code",
   "execution_count": 2,
   "metadata": {},
   "outputs": [],
   "source": [
    "import torch\n",
    "from torch import nn, optim\n",
    "from Dataset import ImageDataset\n",
    "from torchvision import transforms\n",
    "from torch.utils.data import DataLoader\n",
    "from sklearn.model_selection import train_test_split"
   ]
  },
  {
   "cell_type": "code",
   "execution_count": 3,
   "metadata": {},
   "outputs": [],
   "source": [
    "def set_seed(seed):\n",
    "    \"\"\"Sets the seed for reproducibility.\"\"\"\n",
    "    random.seed(seed)\n",
    "    numpy.random.seed(seed)\n",
    "    os.environ['PYTHONHASHSEED'] = str(seed)\n",
    "    \n",
    "    torch.manual_seed(seed)\n",
    "    torch.cuda.manual_seed(seed)\n",
    "    torch.cuda.manual_seed_all(seed)  \n",
    "    torch.backends.cudnn.benchmark = False\n",
    "    torch.backends.cudnn.deterministic = True"
   ]
  },
  {
   "cell_type": "code",
   "execution_count": 4,
   "metadata": {},
   "outputs": [],
   "source": [
    "def load_data(path):\n",
    "    \"\"\"Loads the data from the given path.\"\"\"\n",
    "    folders = [name for name in os.listdir(path) if not name.startswith('.')]\n",
    "    \n",
    "    numbers = 0\n",
    "    for n in range(len(folders)):\n",
    "        patient_id = folders[n]\n",
    "        for c in [0, 1]:\n",
    "            patient_path = path + patient_id \n",
    "            class_path = patient_path + \"/\" + str(c) + \"/\"\n",
    "            files = os.listdir(class_path)\n",
    "            numbers += len(files)\n",
    "            \n",
    "    data = pandas.DataFrame(index=numpy.arange(0, numbers), columns=['patient_id', 'path', 'target'])\n",
    "    \n",
    "    index = 0\n",
    "    for n in range(len(folders)):\n",
    "        patient_id = folders[n]\n",
    "        patient_path = path + patient_id \n",
    "        for c in [0, 1]:\n",
    "            class_path = patient_path + '/' + str(c) + '/'\n",
    "            files = os.listdir(class_path)\n",
    "            for m in range(len(files)):\n",
    "                image_path = files[m]\n",
    "                data.loc[index, 'target'] = int(c)\n",
    "                data.loc[index, 'patient_id'] = patient_id\n",
    "                data.loc[index, 'path'] = class_path + image_path\n",
    "                index += 1\n",
    "    return data"
   ]
  },
  {
   "cell_type": "code",
   "execution_count": 5,
   "metadata": {},
   "outputs": [],
   "source": [
    "def mean_and_variance(loader):\n",
    "    mean = 0.0\n",
    "    variance = 0.0\n",
    "    number_images = 0\n",
    "\n",
    "    for images, labels in loader:\n",
    "        images = images.view(images.size(0), images.size(1), -1)\n",
    "        number_images += images.size(0)\n",
    "        \n",
    "        mean += images.mean(2).sum(0) \n",
    "        variance += images.var(2).sum(0)\n",
    "\n",
    "    mean /= number_images\n",
    "    variance /= number_images\n",
    "\n",
    "    return mean, variance"
   ]
  },
  {
   "cell_type": "code",
   "execution_count": 6,
   "metadata": {},
   "outputs": [],
   "source": [
    "def dataset(data, batch_size, worker_size):\n",
    "    \"\"\"Returns the training and testing datasets.\"\"\"\n",
    "    train_data, evaluation_data = train_test_split(data, test_size=0.2, random_state=0)\n",
    "    validation_data, test_data = train_test_split(evaluation_data, test_size=0.5, random_state=0)\n",
    "    \n",
    "    initial_transform = transforms.Compose([transforms.ToTensor(), transforms.Resize((50, 50), antialias=True)])\n",
    "    \n",
    "    initial_dataset = ImageDataset(dataframe=train_data, transform=initial_transform)\n",
    "    initial_loader = DataLoader(dataset=initial_dataset, batch_size=batch_size, shuffle=True, num_workers=worker_size)\n",
    "    \n",
    "    mean, variance = mean_and_variance(initial_loader)\n",
    "    transform = transforms.Compose([transforms.ToTensor(), transforms.Resize((50, 50), antialias=True), transforms.Normalize(mean, variance.sqrt())])\n",
    "    \n",
    "    test_dataset = ImageDataset(dataframe=test_data, transform=transform)\n",
    "    train_dataset = ImageDataset(dataframe=train_data, transform=transform)\n",
    "    validation_dataset = ImageDataset(dataframe=validation_data, transform=transform)\n",
    "\n",
    "    test_loader = DataLoader(dataset=test_dataset, batch_size=batch_size, shuffle=True, num_workers=worker_size)\n",
    "    train_loader = DataLoader(dataset=train_dataset, batch_size=batch_size, shuffle=True, num_workers=worker_size)\n",
    "    validation_loader = DataLoader(dataset=validation_dataset, batch_size=batch_size, shuffle=True, num_workers=worker_size)\n",
    "    \n",
    "    return train_loader, validation_loader, test_loader"
   ]
  },
  {
   "cell_type": "code",
   "execution_count": 7,
   "metadata": {},
   "outputs": [],
   "source": [
    "class CNN(nn.Module):\n",
    "    \"\"\"Convolutional Neural Network.\"\"\"\n",
    "    def __init__(self):\n",
    "        super(CNN, self).__init__()\n",
    "        self.conv_layer = nn.Sequential(\n",
    "            # Conv Layer block 1: 3 x 50 x 50 -> 8 x 48 x 48\n",
    "            nn.Conv2d(in_channels=3, out_channels=8, kernel_size=5, stride=1, padding=1), \n",
    "            nn.BatchNorm2d(8),\n",
    "            nn.ReLU(inplace=True),\n",
    "            nn.Dropout(0.25),\n",
    "            # Conv Layer block 2: 8 x 48 x 48 -> 8 x 46 x 46\n",
    "            nn.Conv2d(in_channels=8, out_channels=8, kernel_size=5, stride=1, padding=1), \n",
    "            nn.BatchNorm2d(8), \n",
    "            nn.ReLU(inplace=True),\n",
    "            nn.Dropout(0.25),\n",
    "            # Conv Layer block 2: 8 x 46 x 46 -> 8 x 44 x 44\n",
    "            nn.Conv2d(in_channels=8, out_channels=8, kernel_size=5, stride=1, padding=1), \n",
    "            nn.BatchNorm2d(8),\n",
    "            nn.ReLU(inplace=True),\n",
    "            nn.Dropout(0.25),\n",
    "            # Conv Layer block 3: 8 x 44 x 44 -> 8 x 42 x 42\n",
    "            nn.Conv2d(in_channels=8, out_channels=8, kernel_size=5, stride=1, padding=1),\n",
    "            nn.BatchNorm2d(8),\n",
    "            nn.ReLU(inplace=True),\n",
    "            nn.Dropout(0.25),\n",
    "        )\n",
    "        \n",
    "        self.fc_layer = nn.Sequential(\n",
    "            nn.Linear(8 * 42 * 42, 1024),\n",
    "            nn.BatchNorm1d(1024),\n",
    "            nn.ReLU(inplace=True),\n",
    "            nn.Dropout(0.25),\n",
    "            nn.Linear(1024, 128),\n",
    "            nn.BatchNorm1d(128),\n",
    "            nn.ReLU(inplace=True),\n",
    "            nn.Dropout(0.25),\n",
    "            nn.Linear(128, 16),\n",
    "            nn.BatchNorm1d(16), \n",
    "            nn.ReLU(inplace=True),\n",
    "            nn.Dropout(0.25),\n",
    "            nn.Linear(16, 2)\n",
    "        )\n",
    "    \n",
    "    def forward(self, x):\n",
    "        x = self.conv_layer(x)\n",
    "        x = x.view(x.size(0), -1)\n",
    "        x = self.fc_layer(x)\n",
    "        return x"
   ]
  },
  {
   "cell_type": "code",
   "execution_count": 8,
   "metadata": {},
   "outputs": [],
   "source": [
    "def train_and_validate(model, train_loader, validation_loader, loss_function, optimizer, epochs, device):\n",
    "    train_losses = []\n",
    "    train_accuracies = []\n",
    "    validation_losses = []\n",
    "    validation_accuracies = []\n",
    "    \n",
    "    start_time = time.time()\n",
    "    for epoch in range(epochs):\n",
    "        # Training Phase\n",
    "        model.train()\n",
    "        train_loss, correct_train, total_train = 0, 0, 0\n",
    "        for images, labels in train_loader:\n",
    "            images, labels = images.to(device), labels.to(device)\n",
    "            outputs = model(images)\n",
    "            \n",
    "            optimizer.zero_grad(set_to_none=True)\n",
    "            loss = loss_function(outputs, labels)\n",
    "            \n",
    "            loss.backward()\n",
    "            optimizer.step()\n",
    "            \n",
    "            train_loss += loss.item() * images.size(0)\n",
    "            index, predicted = torch.max(outputs, 1)\n",
    "            total_train += labels.size(0)\n",
    "            correct_train += (predicted == labels).sum().item()\n",
    "        \n",
    "        train_loss /= len(train_loader.dataset)\n",
    "        train_accuracy = correct_train / total_train\n",
    "        \n",
    "        # Validation Phase\n",
    "        model.eval()\n",
    "        validation_loss, correct_val, total_val = 0, 0, 0\n",
    "        with torch.no_grad():\n",
    "            for images, labels in validation_loader:\n",
    "                images, labels = images.to(device), labels.to(device)\n",
    "                outputs = model(images)\n",
    "                \n",
    "                loss = loss_function(outputs, labels)\n",
    "                \n",
    "                validation_loss += loss.item() * images.size(0)\n",
    "                index, predicted = torch.max(outputs, 1)\n",
    "                total_val += labels.size(0)\n",
    "                correct_val += (predicted == labels).sum().item()\n",
    "        \n",
    "        validation_loss /= len(validation_loader.dataset)\n",
    "        validation_accuracy = correct_val / total_val\n",
    "        \n",
    "        # Store metrics\n",
    "        train_losses.append(train_loss)\n",
    "        train_accuracies.append(train_accuracy)\n",
    "        validation_losses.append(validation_loss)\n",
    "        validation_accuracies.append(validation_accuracy)\n",
    "        print(f'Epoch [{epoch+1}/{epochs}], Training Loss: {train_loss}, Training Accuracy: {train_accuracy}, Validation Loss: {validation_loss}, Validation Accuracy: {validation_accuracy}')\n",
    "    \n",
    "    end_time = time.time()\n",
    "    execution_time = end_time - start_time\n",
    "    minutes = int(execution_time // 60)\n",
    "    seconds = int(execution_time % 60)\n",
    "    print(f\"\\nExecution time: {minutes:02}:{seconds:02}\")\n",
    "    \n",
    "    return train_losses, train_accuracies, validation_losses, validation_accuracies"
   ]
  },
  {
   "cell_type": "code",
   "execution_count": 9,
   "metadata": {},
   "outputs": [],
   "source": [
    "def plot_metrics(path, train_losses, train_accuracies, validation_losses, validation_accuracies):\n",
    "    \"\"\"Plots the metrics.\"\"\"\n",
    "    figure, axes = pyplot.subplots(nrows=1, ncols=2, figsize=(12, 6))\n",
    "    epochs = numpy.arange(1, len(train_losses) + 1)\n",
    "    \n",
    "    axes[0].plot(epochs, train_losses, label=r'$\\mathrm{Train}$')\n",
    "    axes[0].plot(epochs, validation_losses, label=r'$\\mathrm{Validation}$')\n",
    "    \n",
    "    axes[0].legend()\n",
    "    axes[0].set_xlabel(r'$\\mathrm{Epochs}$')\n",
    "    axes[0].set_ylabel(r'$\\mathrm{Losses}$')\n",
    "    \n",
    "    axes[0].set_xlim([0, len(train_losses)])\n",
    "    axes[0].set_ylim([0.25, 0.50])\n",
    "    \n",
    "    axes[1].plot(epochs, train_accuracies, label=r'$\\mathrm{Train}$')\n",
    "    axes[1].plot(epochs, validation_accuracies, label=r'$\\mathrm{Validation}$')\n",
    "    \n",
    "    axes[1].legend()\n",
    "    axes[1].set_xlabel(r'$\\mathrm{Epochs}$')\n",
    "    axes[1].set_ylabel(r'$\\mathrm{Accuracies}$')\n",
    "    \n",
    "    axes[1].set_xlim([0, len(train_losses)])\n",
    "    axes[1].set_ylim([0.75, 1.00])\n",
    "    \n",
    "    figure.savefig(os.path.join(path, 'METRICS.pdf'), bbox_inches='tight')"
   ]
  },
  {
   "cell_type": "code",
   "execution_count": 10,
   "metadata": {},
   "outputs": [
    {
     "name": "stdout",
     "output_type": "stream",
     "text": [
      "cpu\n"
     ]
    }
   ],
   "source": [
    "set_seed(0)\n",
    "%matplotlib inline\n",
    "ssl_create_default_https_context = ssl._create_unverified_context\n",
    "DEVICE = torch.device('cuda' if torch.cuda.is_available() else 'cpu')\n",
    "print(DEVICE)"
   ]
  },
  {
   "cell_type": "code",
   "execution_count": 11,
   "metadata": {},
   "outputs": [],
   "source": [
    "PATH = os.getcwd()\n",
    "DATA_PATH = os.path.join(PATH, 'DATA/')\n",
    "PLOT_PATH = os.path.join(PATH, 'PLOT/')\n",
    "DATA = load_data(DATA_PATH)"
   ]
  },
  {
   "cell_type": "code",
   "execution_count": 12,
   "metadata": {},
   "outputs": [],
   "source": [
    "EPOCH_SIZE = 24\n",
    "BATCH_SIZE = 1024\n",
    "WORKER_SIZE = 128\n",
    "WEIGHT_DECAY = 0.0001\n",
    "LEARNING_RATE = 0.0005\n",
    "LOSS_FUNCTION = nn.CrossEntropyLoss()"
   ]
  },
  {
   "cell_type": "code",
   "execution_count": 13,
   "metadata": {},
   "outputs": [
    {
     "name": "stdout",
     "output_type": "stream",
     "text": [
      "Train size: 222019, Validation size: 27752, Test size: 27753\n"
     ]
    }
   ],
   "source": [
    "TRAIN_LOADER, VALIDATION_LOADER, TEST_LOADER = dataset(DATA, BATCH_SIZE, WORKER_SIZE)\n",
    "print(f\"Train size: {len(TRAIN_LOADER.dataset)}, Validation size: {len(VALIDATION_LOADER.dataset)}, Test size: {len(TEST_LOADER.dataset)}\")"
   ]
  },
  {
   "cell_type": "code",
   "execution_count": 14,
   "metadata": {},
   "outputs": [
    {
     "name": "stdout",
     "output_type": "stream",
     "text": [
      "CNN(\n",
      "  (conv_layer): Sequential(\n",
      "    (0): Conv2d(3, 8, kernel_size=(5, 5), stride=(1, 1), padding=(1, 1))\n",
      "    (1): BatchNorm2d(8, eps=1e-05, momentum=0.1, affine=True, track_running_stats=True)\n",
      "    (2): ReLU(inplace=True)\n",
      "    (3): Dropout(p=0.25, inplace=False)\n",
      "    (4): Conv2d(8, 8, kernel_size=(5, 5), stride=(1, 1), padding=(1, 1))\n",
      "    (5): BatchNorm2d(8, eps=1e-05, momentum=0.1, affine=True, track_running_stats=True)\n",
      "    (6): ReLU(inplace=True)\n",
      "    (7): Dropout(p=0.25, inplace=False)\n",
      "    (8): Conv2d(8, 8, kernel_size=(5, 5), stride=(1, 1), padding=(1, 1))\n",
      "    (9): BatchNorm2d(8, eps=1e-05, momentum=0.1, affine=True, track_running_stats=True)\n",
      "    (10): ReLU(inplace=True)\n",
      "    (11): Dropout(p=0.25, inplace=False)\n",
      "    (12): Conv2d(8, 8, kernel_size=(5, 5), stride=(1, 1), padding=(1, 1))\n",
      "    (13): BatchNorm2d(8, eps=1e-05, momentum=0.1, affine=True, track_running_stats=True)\n",
      "    (14): ReLU(inplace=True)\n",
      "    (15): Dropout(p=0.25, inplace=False)\n",
      "  )\n",
      "  (fc_layer): Sequential(\n",
      "    (0): Linear(in_features=14112, out_features=1024, bias=True)\n",
      "    (1): BatchNorm1d(1024, eps=1e-05, momentum=0.1, affine=True, track_running_stats=True)\n",
      "    (2): ReLU(inplace=True)\n",
      "    (3): Dropout(p=0.25, inplace=False)\n",
      "    (4): Linear(in_features=1024, out_features=128, bias=True)\n",
      "    (5): BatchNorm1d(128, eps=1e-05, momentum=0.1, affine=True, track_running_stats=True)\n",
      "    (6): ReLU(inplace=True)\n",
      "    (7): Dropout(p=0.25, inplace=False)\n",
      "    (8): Linear(in_features=128, out_features=16, bias=True)\n",
      "    (9): BatchNorm1d(16, eps=1e-05, momentum=0.1, affine=True, track_running_stats=True)\n",
      "    (10): ReLU(inplace=True)\n",
      "    (11): Dropout(p=0.25, inplace=False)\n",
      "    (12): Linear(in_features=16, out_features=2, bias=True)\n",
      "  )\n",
      ")\n"
     ]
    }
   ],
   "source": [
    "MODEL = CNN().to(DEVICE)\n",
    "print(MODEL)"
   ]
  },
  {
   "cell_type": "code",
   "execution_count": 15,
   "metadata": {},
   "outputs": [
    {
     "name": "stdout",
     "output_type": "stream",
     "text": [
      "Epoch [1/24], Training Loss: 0.42514313983542135, Training Accuracy: 0.8176507416031962, Validation Loss: 0.33641358575995495, Validation Accuracy: 0.8574877486307293\n",
      "Epoch [2/24], Training Loss: 0.33918637043827804, Training Accuracy: 0.8579265738517875, Validation Loss: 0.31218070918079344, Validation Accuracy: 0.8691625828769097\n",
      "Epoch [3/24], Training Loss: 0.3212983873364487, Training Accuracy: 0.865128660159716, Validation Loss: 0.3063571930240918, Validation Accuracy: 0.8699913519746325\n",
      "Epoch [4/24], Training Loss: 0.315519317779674, Training Accuracy: 0.868218485805269, Validation Loss: 0.3080498151594983, Validation Accuracy: 0.8700994522917267\n",
      "Epoch [5/24], Training Loss: 0.3111360296715411, Training Accuracy: 0.8696778203667254, Validation Loss: 0.29539904221742014, Validation Accuracy: 0.8737027961948688\n",
      "Epoch [6/24], Training Loss: 0.30917660015500453, Training Accuracy: 0.8711101302140808, Validation Loss: 0.2972040915736619, Validation Accuracy: 0.8720812914384549\n",
      "Epoch [7/24], Training Loss: 0.3060389978658614, Training Accuracy: 0.8727901666073624, Validation Loss: 0.3084209547516385, Validation Accuracy: 0.8696310175843183\n",
      "Epoch [8/24], Training Loss: 0.303755632482861, Training Accuracy: 0.8729297942968846, Validation Loss: 0.2875582877859048, Validation Accuracy: 0.8796483136350534\n",
      "Epoch [9/24], Training Loss: 0.30282614224722804, Training Accuracy: 0.874217972335701, Validation Loss: 0.29358933372468693, Validation Accuracy: 0.8773782069760738\n",
      "Epoch [10/24], Training Loss: 0.3012877694343572, Training Accuracy: 0.8749746643305303, Validation Loss: 0.28737073260447793, Validation Accuracy: 0.8791438454886135\n",
      "Epoch [11/24], Training Loss: 0.2996868860162426, Training Accuracy: 0.8751007796630018, Validation Loss: 0.2844254727767709, Validation Accuracy: 0.8799365811473047\n",
      "Epoch [12/24], Training Loss: 0.29980252290497, Training Accuracy: 0.875069250829884, Validation Loss: 0.3061545570599789, Validation Accuracy: 0.8717209570481407\n",
      "Epoch [13/24], Training Loss: 0.2988036520582246, Training Accuracy: 0.8757583810394606, Validation Loss: 0.2902868429172551, Validation Accuracy: 0.8771980397809167\n",
      "Epoch [14/24], Training Loss: 0.29723132169766586, Training Accuracy: 0.8765871389385593, Validation Loss: 0.28830293794295464, Validation Accuracy: 0.8752882675122514\n",
      "Epoch [15/24], Training Loss: 0.29698733338601196, Training Accuracy: 0.8764655277251046, Validation Loss: 0.285740126765197, Validation Accuracy: 0.8796843470740847\n",
      "Epoch [16/24], Training Loss: 0.29637815586137, Training Accuracy: 0.8769609808169571, Validation Loss: 0.28260551146039636, Validation Accuracy: 0.8801167483424618\n",
      "Epoch [17/24], Training Loss: 0.29589483968305846, Training Accuracy: 0.8763799494637846, Validation Loss: 0.281468940119676, Validation Accuracy: 0.880729316805996\n",
      "Epoch [18/24], Training Loss: 0.2942373057001542, Training Accuracy: 0.8777086645737527, Validation Loss: 0.28851737873669003, Validation Accuracy: 0.8776664744883251\n",
      "Epoch [19/24], Training Loss: 0.29340770869129124, Training Accuracy: 0.8779473828816453, Validation Loss: 0.2831907132562625, Validation Accuracy: 0.8821346209282214\n",
      "Epoch [20/24], Training Loss: 0.2927606647792494, Training Accuracy: 0.8776591192645674, Validation Loss: 0.2892474616706182, Validation Accuracy: 0.8786033439031421\n",
      "Epoch [21/24], Training Loss: 0.29254681738452276, Training Accuracy: 0.8780059364288642, Validation Loss: 0.28070292212273074, Validation Accuracy: 0.8832516575381955\n",
      "Epoch [22/24], Training Loss: 0.2917558627947606, Training Accuracy: 0.8781185394042852, Validation Loss: 0.2770663794848513, Validation Accuracy: 0.8831795906601326\n",
      "Epoch [23/24], Training Loss: 0.29061414140993447, Training Accuracy: 0.8790689085168386, Validation Loss: 0.2852838813536928, Validation Accuracy: 0.8777745748054194\n",
      "Epoch [24/24], Training Loss: 0.2898520118813214, Training Accuracy: 0.8799291952490552, Validation Loss: 0.3035616051415333, Validation Accuracy: 0.8677572787546843\n",
      "\n",
      "Execution time: 256:24\n"
     ]
    }
   ],
   "source": [
    "OPTIMIZER = optim.Adam(MODEL.parameters(), lr=LEARNING_RATE, weight_decay=WEIGHT_DECAY)\n",
    "TRAIN_LOSSES, TRAIN_ACCURACIES, VALIDATION_LOSSES, VALIDATION_ACCURACIES = train_and_validate(MODEL, TRAIN_LOADER, VALIDATION_LOADER, LOSS_FUNCTION, OPTIMIZER, EPOCH_SIZE, DEVICE)"
   ]
  },
  {
   "cell_type": "code",
   "execution_count": 16,
   "metadata": {},
   "outputs": [
    {
     "name": "stdout",
     "output_type": "stream",
     "text": [
      "env: PATH=/global/homes/y/yhzhang/opt/texlive/bin/x86_64-linux:/pscratch/sd/y/yhzhang/MLConda\n"
     ]
    }
   ],
   "source": [
    "%env PATH=/global/homes/y/yhzhang/opt/texlive/bin/x86_64-linux:$PATH\n",
    "pyplot.rcParams['text.latex.preamble'] = r'\\usepackage{amsmath}'\n",
    "pyplot.rcParams['pgf.texsystem'] = 'pdflatex'\n",
    "pyplot.rcParams['text.usetex'] = True\n",
    "pyplot.rcParams['font.size'] = 20"
   ]
  },
  {
   "cell_type": "code",
   "execution_count": 17,
   "metadata": {
    "tags": []
   },
   "outputs": [
    {
     "data": {
      "image/png": "[encoded data removed]",
      "text/plain": [
       "<Figure size 1200x600 with 2 Axes>"
      ]
     },
     "metadata": {},
     "output_type": "display_data"
    }
   ],
   "source": [
    "plot_metrics(PLOT_PATH, TRAIN_LOSSES, TRAIN_ACCURACIES, VALIDATION_LOSSES, VALIDATION_ACCURACIES)"
   ]
  }
 ],
 "metadata": {
  "kernelspec": {
   "display_name": "pytorch-2.0.1",
   "language": "python",
   "name": "pytorch-2.0.1"
  },
  "language_info": {
   "codemirror_mode": {
    "name": "ipython",
    "version": 3
   },
   "file_extension": ".py",
   "mimetype": "text/x-python",
   "name": "python",
   "nbconvert_exporter": "python",
   "pygments_lexer": "ipython3",
   "version": "3.9.16"
  }
 },
 "nbformat": 4,
 "nbformat_minor": 4
}

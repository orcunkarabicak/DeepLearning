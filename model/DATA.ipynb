{
 "cells": [
  {
   "cell_type": "code",
   "execution_count": 1,
   "id": "db9641a8-2cbe-415a-b455-032d096578c7",
   "metadata": {},
   "outputs": [],
   "source": [
    "import os"
   ]
  },
  {
   "cell_type": "code",
   "execution_count": 2,
   "id": "675142da-d943-49a8-9faf-f39c946c1281",
   "metadata": {
    "tags": []
   },
   "outputs": [
    {
     "name": "stdout",
     "output_type": "stream",
     "text": [
      "Dataset URL: https://www.kaggle.com/datasets/paultimothymooney/breast-histopathology-images\n",
      "License(s): CC0-1.0\n",
      "Downloading breast-histopathology-images.zip to /pscratch/sd/y/yhzhang/MLConda\n",
      "100%|██████████████████████████████████████▉| 3.09G/3.10G [00:19<00:00, 211MB/s]\n",
      "100%|███████████████████████████████████████| 3.10G/3.10G [00:19<00:00, 172MB/s]\n"
     ]
    }
   ],
   "source": [
    "PATH = os.getcwd()\n",
    "DATA_PATH = os.path.join(PATH, 'DATA/')\n",
    "!kaggle datasets download -d paultimothymooney/breast-histopathology-images -p \"{PATH}\" --force"
   ]
  },
  {
   "cell_type": "code",
   "execution_count": 3,
   "id": "4cd5bdbb-f50b-4e55-8d5e-7ddaa4613189",
   "metadata": {},
   "outputs": [],
   "source": [
    "!unzip -q -o {PATH}/breast-histopathology-images.zip -d {DATA_PATH}"
   ]
  }
 ],
 "metadata": {
  "kernelspec": {
   "display_name": "pytorch-2.0.1",
   "language": "python",
   "name": "pytorch-2.0.1"
  },
  "language_info": {
   "codemirror_mode": {
    "name": "ipython",
    "version": 3
   },
   "file_extension": ".py",
   "mimetype": "text/x-python",
   "name": "python",
   "nbconvert_exporter": "python",
   "pygments_lexer": "ipython3",
   "version": "3.9.16"
  }
 },
 "nbformat": 4,
 "nbformat_minor": 5
}
